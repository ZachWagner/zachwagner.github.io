{
 "cells": [
  {
   "cell_type": "raw",
   "metadata": {},
   "source": [
    "---\n",
    "title: \"Neural Poisson Solver\"\n",
    "description: \"Solving a simple PDE using a neural network\"\n",
    "author: \"Zach Wagner\"\n",
    "date: \"09/08/2023\"\n",
    "categories:\n",
    "  - Partial Differential Equations\n",
    "  - Machine Learning\n",
    "draft: false\n",
    "---"
   ]
  },
  {
   "cell_type": "markdown",
   "metadata": {},
   "source": [
    "This is the first of a series of posts discussing a side project I'm working on. Long term, I'm interested in solving the PDEs I'm studying in my research using deep neural networks. This is a natural approach, but having not implemented such a program before, I'm starting with some easier problems to get myself familiar with the implementation of such a solver using Pytorch. Most of my experience up until recently has been with Tensorflow (I have a Tensorflow Developer certification from Coursera). So far, I've enjoyed Pytorch and I've found it much more intuitive than Tensorflow. "
   ]
  },
  {
   "cell_type": "markdown",
   "metadata": {},
   "source": [
    "## Poisson Equation\n",
    "The first toy problem I present here is the Poisson Equation with Dirichlet boundary condition on the unit disk. I've chosen a very simple relationship for $\\Delta u$ and the boundary condition to quickly show that the neural network I train differs only slightly from the analytical solution.\n",
    "\n",
    "The problem I solve is this,\n",
    "\n",
    "$$\\Delta u(x,y)=1\\quad (x,y)\\in B_1(0)$$\n",
    "$$u(x,y)=0\\quad (x,y)\\in\\partial B_1(0)$$\n",
    "\n",
    "in $\\mathbb{R}^2$. The analytical solution to this problem is easily seen to be $u(x,y)=\\frac{1}{4}(x^2+y^2-1)$. "
   ]
  },
  {
   "cell_type": "code",
   "execution_count": 322,
   "metadata": {},
   "outputs": [],
   "source": [
    "import torch\n",
    "import torch.nn as nn\n",
    "import matplotlib.pyplot as plt\n",
    "import numpy as np\n",
    "import math"
   ]
  },
  {
   "cell_type": "markdown",
   "metadata": {},
   "source": [
    "We will use a very simple neural network."
   ]
  },
  {
   "cell_type": "code",
   "execution_count": 241,
   "metadata": {},
   "outputs": [],
   "source": [
    "class NeuralNetwork(nn.Module):\n",
    "    def __init__(self):\n",
    "        super().__init__()\n",
    "        self.sequential_model = nn.Sequential(\n",
    "            nn.Linear(2, 8),\n",
    "            nn.Sigmoid(),\n",
    "            nn.Linear(8, 1)\n",
    "        )\n",
    "\n",
    "    def forward(self, x):\n",
    "        return self.sequential_model(x)"
   ]
  },
  {
   "cell_type": "markdown",
   "metadata": {},
   "source": [
    "Here, we define a function which samples the necessary data to train the network (and test the network later)."
   ]
  },
  {
   "cell_type": "code",
   "execution_count": 235,
   "metadata": {},
   "outputs": [],
   "source": [
    "def SampleFromUnitDisk(points):\n",
    "    d = torch.distributions.Uniform(-1,1)\n",
    "\n",
    "    x = torch.Tensor(points,1)\n",
    "    y = torch.Tensor(points,1)\n",
    "    j=0\n",
    "\n",
    "    while j<points:\n",
    "        x_temp = d.sample()\n",
    "        y_temp = d.sample()\n",
    "        if x_temp**2+y_temp**2<1:\n",
    "            x[j,0]=x_temp\n",
    "            y[j,0]=y_temp\n",
    "            j+=1\n",
    "\n",
    "    xbdry = torch.Tensor(points,1)\n",
    "    ybdry = torch.Tensor(points,1)\n",
    "    j=0\n",
    "\n",
    "    #Vary the sign of the y coordinate, for otherwise we'd only have positive y values.\n",
    "\n",
    "    for j in range(points):\n",
    "        x_temp = d.sample()\n",
    "        xbdry[j,0]=x_temp\n",
    "        if j%2==0:\n",
    "            ybdry[j,0]=math.sqrt(1-x_temp**2)\n",
    "        else:\n",
    "            ybdry[j,0]=-math.sqrt(1-x_temp**2)\n",
    "\n",
    "    return x, y, xbdry, ybdry"
   ]
  },
  {
   "cell_type": "markdown",
   "metadata": {},
   "source": [
    "Now, we generate the training data."
   ]
  },
  {
   "cell_type": "code",
   "execution_count": 236,
   "metadata": {},
   "outputs": [],
   "source": [
    "x, y, xbdry, ybdry = SampleFromUnitDisk(10000)"
   ]
  },
  {
   "cell_type": "markdown",
   "metadata": {},
   "source": [
    "Let's discuss the loss function. Since we've descritized the domain, we are going to use a discrete mean-squared error function to compute the loss. In our case, we want to minimize the following,\n",
    "\n",
    "$$L(x_{\\text{int}},y_\\text{int}, x_{\\text{bdry}},y_{\\text{bdry}}):=\\frac{1}{N_{\\text{int}}}\\sum_{j=1}^{N_{\\text{int}}}|\\Delta u(x^{(j)}_{\\text{int}},y^{(j)}_{\\text{int}})-1|^2+\\frac{1}{N_{\\text{bdry}}}\\sum_{j=1}^{N_{\\text{bdry}}}|u(x^{(j)}_{\\text{bdry}},y^{(j)}_{\\text{bdry}})|^2$$\n",
    "\n",
    "The first term comes from the fact that $\\Delta u(x,y)=1$ on the interior, while $u=0$ identically on the boundary. To implement this, we define the following."
   ]
  },
  {
   "cell_type": "code",
   "execution_count": 237,
   "metadata": {},
   "outputs": [],
   "source": [
    "def loss(x, y, xbdry, ybdry, network):\n",
    "    x.requires_grad = True\n",
    "    y.requires_grad = True\n",
    "    temp_input = torch.cat((x,y),1)\n",
    "    z=network(temp_input)\n",
    "    zbdry = network(torch.cat((xbdry, ybdry),1))\n",
    "\n",
    "    dz_dx = torch.autograd.grad(z.sum(), x, create_graph = True)[0]\n",
    "    ddz_ddx = torch.autograd.grad(dz_dx.sum(), x, create_graph = True)[0]\n",
    "    dz_dy = torch.autograd.grad(z.sum(), y, create_graph = True)[0] \n",
    "    ddz_ddy = torch.autograd.grad(dz_dy.sum(), y, create_graph = True)[0]\n",
    "\n",
    "    return torch.mean((ddz_ddx+ddz_ddy-1)**2)+torch.mean((zbdry-torch.zeros(xbdry.size(0)))**2)"
   ]
  },
  {
   "cell_type": "markdown",
   "metadata": {},
   "source": [
    "Okay now let's create our network and train it! We'll use 2000 epochs."
   ]
  },
  {
   "cell_type": "code",
   "execution_count": 245,
   "metadata": {},
   "outputs": [
    {
     "name": "stdout",
     "output_type": "stream",
     "text": [
      "Loss at epoch 0: 1.0297363996505737\n",
      "Loss at epoch 100: 0.7696019411087036\n",
      "Loss at epoch 200: 0.10838701575994492\n",
      "Loss at epoch 300: 0.040865253657102585\n",
      "Loss at epoch 400: 0.02691115066409111\n",
      "Loss at epoch 500: 0.02078372612595558\n",
      "Loss at epoch 600: 0.017054535448551178\n",
      "Loss at epoch 700: 0.0143966656178236\n",
      "Loss at epoch 800: 0.012377198785543442\n",
      "Loss at epoch 900: 0.010792599990963936\n",
      "Loss at epoch 1000: 0.00952119193971157\n",
      "Loss at epoch 1100: 0.008482505567371845\n",
      "Loss at epoch 1200: 0.007620864547789097\n",
      "Loss at epoch 1300: 0.006896625738590956\n",
      "Loss at epoch 1400: 0.006280942354351282\n",
      "Loss at epoch 1500: 0.005752396769821644\n",
      "Loss at epoch 1600: 0.005294801667332649\n",
      "Loss at epoch 1700: 0.004895701073110104\n",
      "Loss at epoch 1800: 0.00454533938318491\n",
      "Loss at epoch 1900: 0.004236005246639252\n"
     ]
    }
   ],
   "source": [
    "model = NeuralNetwork()\n",
    "optimizer = torch.optim.SGD(model.parameters(), lr=0.01, momentum=.9)\n",
    "\n",
    "epochs = 2000\n",
    "loss_values = np.zeros(2000)\n",
    "for i in range(epochs):\n",
    "    l = loss(x, y, xbdry, ybdry, model)\n",
    "    l.backward()\n",
    "    optimizer.step()\n",
    "    optimizer.zero_grad()\n",
    "    loss_values[i]=l\n",
    "    if i%100==0:\n",
    "        print(\"Loss at epoch {}: {}\".format(i, l.item()))"
   ]
  },
  {
   "cell_type": "markdown",
   "metadata": {},
   "source": [
    "Cool, so it seems like we've decreased the loss significantly. This is enough for our toy example. Here's the loss decrease over the course of training:"
   ]
  },
  {
   "cell_type": "code",
   "execution_count": 246,
   "metadata": {},
   "outputs": [
    {
     "data": {
      "text/plain": [
       "<matplotlib.legend.Legend at 0x48cc0d390>"
      ]
     },
     "execution_count": 246,
     "metadata": {},
     "output_type": "execute_result"
    },
    {
     "data": {
      "image/png": "[encoded data removed]",
      "text/plain": [
       "<Figure size 500x300 with 1 Axes>"
      ]
     },
     "metadata": {},
     "output_type": "display_data"
    }
   ],
   "source": [
    "x_axis = np.linspace(0,2000,2000)[:,None]\n",
    "plt.figure(figsize=(5,3))\n",
    "plt.plot(x_axis,loss_values,'red', label='loss')\n",
    "plt.xlabel('Iteration')\n",
    "plt.ylabel('Loss')\n",
    "plt.legend()"
   ]
  },
  {
   "cell_type": "markdown",
   "metadata": {},
   "source": [
    "Now, let's simulate a sup-norm test agains the analytic solution, using a test set of data."
   ]
  },
  {
   "cell_type": "code",
   "execution_count": 250,
   "metadata": {},
   "outputs": [
    {
     "name": "stdout",
     "output_type": "stream",
     "text": [
      "Interior sup-norm error: 0.04881325364112854\n",
      "Boundary sup-norm error: 0.04888451099395752\n"
     ]
    }
   ],
   "source": [
    "x_test, y_test, xbdry_test, ybdry_test = SampleFromUnitDisk(10000)\n",
    "\n",
    "with torch.no_grad():\n",
    "    z = model(torch.cat((x_test,y_test),1))-(1/4*(x_test**2+y_test**2-1))\n",
    "    print(\"Interior sup-norm error: {}\".format(torch.max(abs(z)).item()))\n",
    "\n",
    "with torch.no_grad():\n",
    "    z = model(torch.cat((xbdry_test,ybdry_test),1))-(1/4*(xbdry_test**2+ybdry_test**2-1))\n",
    "    print(\"Boundary sup-norm error: {}\".format(torch.max(abs(z)).item()))"
   ]
  },
  {
   "cell_type": "markdown",
   "metadata": {},
   "source": [
    "Of course, we want to do better, but this is pretty decent for this toy example.\n",
    "\n",
    "Cool, so we have a baseline implementation for solving PDEs using neural networks. This was of course extremely simple. I started messing with more complicated PDEs (quasilinear, nonlinear) and ran into challenges in both implementation and validation. There are some theoretical questions on how to deal with non-uniqueness of solutions and how to give an \"ansatz\" when initializaing training. Some of this will probably be the subject of my next post. "
   ]
  }
 ],
 "metadata": {
  "kernelspec": {
   "display_name": "Python 3",
   "language": "python",
   "name": "python3"
  },
  "language_info": {
   "codemirror_mode": {
    "name": "ipython",
    "version": 3
   },
   "file_extension": ".py",
   "mimetype": "text/x-python",
   "name": "python",
   "nbconvert_exporter": "python",
   "pygments_lexer": "ipython3",
   "version": "3.11.2"
  },
  "orig_nbformat": 4
 },
 "nbformat": 4,
 "nbformat_minor": 2
}

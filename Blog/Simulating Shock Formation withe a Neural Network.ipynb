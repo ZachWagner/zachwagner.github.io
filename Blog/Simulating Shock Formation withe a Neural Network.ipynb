{
 "cells": [
  {
   "cell_type": "raw",
   "metadata": {},
   "source": [
    "---\n",
    "title: \"Simulating Shock Formation withe a Neural Network\"\n",
    "description: \"Solving the invicid Burgers' equation with a NN to observe the shock.\"\n",
    "author: \"Zach Wagner\"\n",
    "date: \"11/09/2023\"\n",
    "categories:\n",
    "  - Partial Differential Equations\n",
    "  - Machine Learning\n",
    "draft: true\n",
    "---"
   ]
  },
  {
   "cell_type": "markdown",
   "metadata": {},
   "source": [
    "This is the first of a series of posts discussing a side project I'm working on. Long term, I'm interested in solving the PDEs I'm studying in my research using deep neural networks. This is a natural approach, but having not implemented such a program before, I'm starting with some easier problems to get myself familiar with the implementation of such a solver using Pytorch. Most of my experience up until recently has been with Tensorflow (I have a Tensorflow Developer certification from Coursera). So far, I've enjoyed Pytorch and I've found it much more intuitive than Tensorflow. "
   ]
  },
  {
   "cell_type": "markdown",
   "metadata": {},
   "source": [
    "## Poisson Equation\n",
    "The first toy problem I present here is the Poisson Equation with Dirichlet boundary condition on the unit disk. I've chosen a very simple relationship for $\\Delta u$ and the boundary condition to quickly show that the neural network I train differs only slightly from the analytical solution.\n",
    "\n",
    "The problem I solve is this,\n",
    "\n",
    "$$\\Delta u(x,y)=1\\quad (x,y)\\in B_1(0)$$\n",
    "$$u(x,y)=0\\quad (x,y)\\in\\partial B_1(0)$$\n",
    "\n",
    "in $\\mathbb{R}^2$. The analytical solution to this problem is easily seen to be $u(x,y)=\\frac{1}{4}(x^2+y^2-1)$. "
   ]
  },
  {
   "cell_type": "code",
   "execution_count": 1,
   "metadata": {},
   "outputs": [
    {
     "name": "stderr",
     "output_type": "stream",
     "text": [
      "/Library/Frameworks/Python.framework/Versions/3.10/lib/python3.10/site-packages/tqdm/auto.py:21: TqdmWarning: IProgress not found. Please update jupyter and ipywidgets. See https://ipywidgets.readthedocs.io/en/stable/user_install.html\n",
      "  from .autonotebook import tqdm as notebook_tqdm\n"
     ]
    }
   ],
   "source": [
    "import torch\n",
    "import torch.nn as nn\n",
    "import matplotlib.pyplot as plt\n",
    "import numpy as np\n",
    "import math\n",
    "import matplotlib.animation as animation"
   ]
  },
  {
   "cell_type": "markdown",
   "metadata": {},
   "source": [
    "We will use a very simple neural network."
   ]
  },
  {
   "cell_type": "code",
   "execution_count": 47,
   "metadata": {},
   "outputs": [],
   "source": [
    "class NeuralNetwork(nn.Module):\n",
    "    def __init__(self):\n",
    "        super().__init__()\n",
    "        self.sequential_model = nn.Sequential(\n",
    "            nn.Linear(2, 8),\n",
    "            nn.Sigmoid(),\n",
    "            nn.Linear(8, 1)\n",
    "        )\n",
    "\n",
    "    def forward(self, x):\n",
    "        return self.sequential_model(x)"
   ]
  },
  {
   "cell_type": "markdown",
   "metadata": {},
   "source": [
    "Here, we define a function which samples the necessary data to train the network (and test the network later)."
   ]
  },
  {
   "cell_type": "code",
   "execution_count": 67,
   "metadata": {},
   "outputs": [],
   "source": [
    "def SampleFromUnitDisk(points):\n",
    "    d = torch.distributions.Uniform(-5,5)\n",
    "    d_t = torch.distributions.Uniform(0,5)\n",
    "\n",
    "    x = torch.Tensor(points,1)\n",
    "    t = torch.Tensor(points,1)\n",
    "    j=0\n",
    "\n",
    "    while j<points:\n",
    "        x[j,0] = d.sample()\n",
    "        t[j,0] = d_t.sample()\n",
    "        j+=1\n",
    "\n",
    "    return x, t"
   ]
  },
  {
   "cell_type": "code",
   "execution_count": 83,
   "metadata": {},
   "outputs": [],
   "source": [
    "x, t = SampleFromUnitDisk(10000)"
   ]
  },
  {
   "cell_type": "markdown",
   "metadata": {},
   "source": [
    "Now, we generate the training data."
   ]
  },
  {
   "cell_type": "markdown",
   "metadata": {},
   "source": [
    "Let's discuss the loss function. Since we've descritized the domain, we are going to use a discrete mean-squared error function to compute the loss. In our case, we want to minimize the following,\n",
    "\n",
    "$$L(x_{\\text{int}},y_\\text{int}, x_{\\text{bdry}},y_{\\text{bdry}}):=\\frac{1}{N_{\\text{int}}}\\sum_{j=1}^{N_{\\text{int}}}|\\Delta u(x^{(j)}_{\\text{int}},y^{(j)}_{\\text{int}})-1|^2+\\frac{1}{N_{\\text{bdry}}}\\sum_{j=1}^{N_{\\text{bdry}}}|u(x^{(j)}_{\\text{bdry}},y^{(j)}_{\\text{bdry}})|^2$$\n",
    "\n",
    "The first term comes from the fact that $\\Delta u(x,y)=1$ on the interior, while $u=0$ identically on the boundary. To implement this, we define the following."
   ]
  },
  {
   "cell_type": "code",
   "execution_count": 84,
   "metadata": {},
   "outputs": [],
   "source": [
    "def g(x):\n",
    "    if x<0:\n",
    "        return 1\n",
    "    elif x>0 and x<1:\n",
    "        return 1-x\n",
    "    else:\n",
    "        return 0"
   ]
  },
  {
   "cell_type": "code",
   "execution_count": 85,
   "metadata": {},
   "outputs": [],
   "source": [
    "def loss(x, t, network):\n",
    "    x.requires_grad = True\n",
    "    t.requires_grad = True\n",
    "    k = x\n",
    "    t_0=torch.zeros(10000).unsqueeze(1)\n",
    "    temp_input = torch.cat((x,t),1)\n",
    "    z=network(temp_input)\n",
    "    zinit = network(torch.cat((x, t_0),1))\n",
    "\n",
    "    dz_dx = torch.autograd.grad(z.sum(), x, create_graph = True)[0]\n",
    "    dz_dt = torch.autograd.grad(z.sum(), t, create_graph = True)[0] \n",
    "\n",
    "    return torch.mean((dz_dx*z+dz_dt)**2)+torch.mean((zinit-k.detach().apply_(g))**2)"
   ]
  },
  {
   "cell_type": "markdown",
   "metadata": {},
   "source": [
    "Okay now let's create our network and train it! We'll use 2000 epochs."
   ]
  },
  {
   "cell_type": "code",
   "execution_count": 86,
   "metadata": {},
   "outputs": [
    {
     "name": "stdout",
     "output_type": "stream",
     "text": [
      "Loss at epoch 0: 1.511480450630188\n",
      "Loss at epoch 1000: 0.02721107006072998\n",
      "Loss at epoch 2000: 0.026105497032403946\n",
      "Loss at epoch 3000: 0.02599753625690937\n",
      "Loss at epoch 4000: 0.02595333196222782\n",
      "Loss at epoch 5000: 0.025913238525390625\n",
      "Loss at epoch 6000: 0.025874311104416847\n",
      "Loss at epoch 7000: 0.025836490094661713\n",
      "Loss at epoch 8000: 0.02579987607896328\n",
      "Loss at epoch 9000: 0.025764452293515205\n",
      "Loss at epoch 10000: 0.025730101391673088\n",
      "Loss at epoch 11000: 0.0256966520100832\n",
      "Loss at epoch 12000: 0.025663886219263077\n",
      "Loss at epoch 13000: 0.025631550699472427\n",
      "Loss at epoch 14000: 0.025599384680390358\n",
      "Loss at epoch 15000: 0.025567123666405678\n",
      "Loss at epoch 16000: 0.025534508749842644\n",
      "Loss at epoch 17000: 0.025501295924186707\n",
      "Loss at epoch 18000: 0.025467244908213615\n",
      "Loss at epoch 19000: 0.025432126596570015\n",
      "Loss at epoch 20000: 0.0253957137465477\n",
      "Loss at epoch 21000: 0.025357801467180252\n",
      "Loss at epoch 22000: 0.02531818486750126\n",
      "Loss at epoch 23000: 0.02527666836977005\n",
      "Loss at epoch 24000: 0.025233058258891106\n",
      "Loss at epoch 25000: 0.02518715150654316\n",
      "Loss at epoch 26000: 0.02513875998556614\n",
      "Loss at epoch 27000: 0.02508765459060669\n",
      "Loss at epoch 28000: 0.025033622980117798\n",
      "Loss at epoch 29000: 0.02497638761997223\n",
      "Loss at epoch 30000: 0.024915659800171852\n",
      "Loss at epoch 31000: 0.02485109493136406\n",
      "Loss at epoch 32000: 0.024782266467809677\n",
      "Loss at epoch 33000: 0.024708649143576622\n",
      "Loss at epoch 34000: 0.024629632011055946\n",
      "Loss at epoch 35000: 0.024544384330511093\n",
      "Loss at epoch 36000: 0.024451900273561478\n",
      "Loss at epoch 37000: 0.024350903928279877\n",
      "Loss at epoch 38000: 0.024239767342805862\n",
      "Loss at epoch 39000: 0.024116426706314087\n",
      "Loss at epoch 40000: 0.023978341370821\n",
      "Loss at epoch 41000: 0.02382235787808895\n",
      "Loss at epoch 42000: 0.02364467643201351\n",
      "Loss at epoch 43000: 0.023440850898623466\n",
      "Loss at epoch 44000: 0.023205917328596115\n",
      "Loss at epoch 45000: 0.02293463610112667\n",
      "Loss at epoch 46000: 0.02262203022837639\n",
      "Loss at epoch 47000: 0.02226405218243599\n",
      "Loss at epoch 48000: 0.021858500316739082\n",
      "Loss at epoch 49000: 0.02140587382018566\n"
     ]
    }
   ],
   "source": [
    "model = NeuralNetwork()\n",
    "optimizer = torch.optim.SGD(model.parameters(), lr=0.01, momentum=.9)\n",
    "\n",
    "epochs = 50000\n",
    "loss_values = np.zeros(50000)\n",
    "for i in range(epochs):\n",
    "    l = loss(x, t, model)\n",
    "    l.backward()\n",
    "    optimizer.step()\n",
    "    optimizer.zero_grad()\n",
    "    loss_values[i]=l\n",
    "    if i%1000==0:\n",
    "        print(\"Loss at epoch {}: {}\".format(i, l.item()))"
   ]
  },
  {
   "cell_type": "markdown",
   "metadata": {},
   "source": [
    "Cool, so it seems like we've decreased the loss significantly. This is enough for our toy example. Here's the loss decrease over the course of training:"
   ]
  },
  {
   "cell_type": "code",
   "execution_count": 8,
   "metadata": {},
   "outputs": [
    {
     "data": {
      "text/plain": [
       "<matplotlib.legend.Legend at 0x147026860>"
      ]
     },
     "execution_count": 8,
     "metadata": {},
     "output_type": "execute_result"
    },
    {
     "data": {
      "image/png": "[encoded data removed]",
      "text/plain": [
       "<Figure size 500x300 with 1 Axes>"
      ]
     },
     "metadata": {},
     "output_type": "display_data"
    }
   ],
   "source": [
    "x_axis = np.linspace(0,50000,50000)[:,None]\n",
    "plt.figure(figsize=(5,3))\n",
    "plt.plot(x_axis,loss_values,'red', label='loss')\n",
    "plt.xlabel('Iteration')\n",
    "plt.ylabel('Loss')\n",
    "plt.legend()"
   ]
  },
  {
   "cell_type": "code",
   "execution_count": 88,
   "metadata": {},
   "outputs": [
    {
     "data": {
      "image/png": "[encoded data removed]",
      "text/plain": [
       "<Figure size 640x480 with 1 Axes>"
      ]
     },
     "metadata": {},
     "output_type": "display_data"
    }
   ],
   "source": [
    "x_axis = torch.linspace(-5,5,10000).unsqueeze(1)\n",
    "t=0\n",
    "\n",
    "t_val = torch.ones(10000).unsqueeze(1)*t\n",
    "values = model(torch.cat((x_axis,t_val),1))\n",
    "\n",
    "def update_plot(t):\n",
    "    t_val = torch.ones(10000).unsqueeze(1)*t/20\n",
    "    values = model(torch.cat((x_axis,t_val),1))\n",
    "    points.set_data(x_axis.detach(),values.detach())\n",
    "    return points\n",
    "\n",
    "fig = plt.figure()\n",
    "ax = plt.axes(xlim=(-5,5),ylim=(-1.5, 1.5))\n",
    "points, =ax.plot(x_axis.detach(),values.detach(),'red', label='u(x,t)')\n",
    "ani = animation.FuncAnimation(fig,update_plot,frames=100,repeat=False)\n",
    "plt.show()\n",
    "ani.save('test.gif', writer='pillow')\n",
    "#while t<=5:\n",
    "#    if t==0:\n",
    "#        points, =ax.plot(x_axis.detach(),values.detach(),'red', label='u(x,t)')\n",
    "#        ax.set_xlim(-5,5)\n",
    "#        ax.set_ylim(0,2)\n",
    "#    else:\n",
    "#        points.set_data(x_axis.detach(),values.detach())\n",
    "    \n",
    "#    plt.pause(0.5)\n",
    "#    t+=0.1\n",
    "\n",
    "#plt.figure(figsize=(5,3))\n",
    "#plt.plot(x_axis.detach(),values.detach(),'red', label='u(x,t)')\n",
    "#plt.xlabel('x')\n",
    "#plt.ylabel('u(x,t)')\n",
    "#plt.legend()"
   ]
  },
  {
   "cell_type": "code",
   "execution_count": 91,
   "metadata": {},
   "outputs": [],
   "source": [
    "class NeuralNetwork2(nn.Module):\n",
    "    def __init__(self):\n",
    "        super().__init__()\n",
    "        self.sequential_model = nn.Sequential(\n",
    "            nn.Linear(2, 8),\n",
    "            nn.Sigmoid(),\n",
    "            nn.Linear(8, 1)\n",
    "        )\n",
    "        \n",
    "    def forward(self, x):\n",
    "        return self.sequential_model(x)"
   ]
  },
  {
   "cell_type": "code",
   "execution_count": 90,
   "metadata": {},
   "outputs": [],
   "source": [
    "x, t = SampleFromUnitDisk(10000)"
   ]
  },
  {
   "cell_type": "code",
   "execution_count": 95,
   "metadata": {},
   "outputs": [],
   "source": [
    "def loss2(x, t, network):\n",
    "    x.requires_grad = True\n",
    "    t.requires_grad = True\n",
    "    t_0=torch.zeros(10000).unsqueeze(1)\n",
    "    temp_input = torch.cat((x,t),1)\n",
    "    z=network(temp_input)\n",
    "    zinit = network(torch.cat((x, t_0),1))\n",
    "\n",
    "    k = x-z*t\n",
    "    n = x\n",
    "\n",
    "    return torch.mean((z-k.detach().apply_(g))**2)+torch.mean((zinit-n.detach().apply_(g))**2)"
   ]
  },
  {
   "cell_type": "code",
   "execution_count": 96,
   "metadata": {},
   "outputs": [
    {
     "name": "stdout",
     "output_type": "stream",
     "text": [
      "Loss at epoch 0: 0.9301759600639343\n",
      "Loss at epoch 1000: 0.06250112503767014\n",
      "Loss at epoch 2000: 0.05261428654193878\n",
      "Loss at epoch 3000: 0.04801388084888458\n",
      "Loss at epoch 4000: 0.04525195062160492\n",
      "Loss at epoch 5000: 0.043427735567092896\n",
      "Loss at epoch 6000: 0.04209195449948311\n",
      "Loss at epoch 7000: 0.04101116210222244\n",
      "Loss at epoch 8000: 0.040071215480566025\n",
      "Loss at epoch 9000: 0.0392165444791317\n",
      "Loss at epoch 10000: 0.0384175069630146\n",
      "Loss at epoch 11000: 0.037654101848602295\n",
      "Loss at epoch 12000: 0.03690784052014351\n",
      "Loss at epoch 13000: 0.03615432232618332\n",
      "Loss at epoch 14000: 0.03536562621593475\n",
      "Loss at epoch 15000: 0.03450819477438927\n",
      "Loss at epoch 16000: 0.033549606800079346\n",
      "Loss at epoch 17000: 0.03247258812189102\n",
      "Loss at epoch 18000: 0.03126995638012886\n",
      "Loss at epoch 19000: 0.02996484376490116\n",
      "Loss at epoch 20000: 0.02859281189739704\n",
      "Loss at epoch 21000: 0.02719927579164505\n",
      "Loss at epoch 22000: 0.025833280757069588\n",
      "Loss at epoch 23000: 0.02452877163887024\n",
      "Loss at epoch 24000: 0.023308653384447098\n",
      "Loss at epoch 25000: 0.022184792906045914\n",
      "Loss at epoch 26000: 0.021160440519452095\n",
      "Loss at epoch 27000: 0.020235294476151466\n",
      "Loss at epoch 28000: 0.019404204562306404\n",
      "Loss at epoch 29000: 0.018660645931959152\n",
      "Loss at epoch 30000: 0.017997585237026215\n",
      "Loss at epoch 31000: 0.017405904829502106\n",
      "Loss at epoch 32000: 0.016877971589565277\n",
      "Loss at epoch 33000: 0.016406914219260216\n",
      "Loss at epoch 34000: 0.0159858800470829\n",
      "Loss at epoch 35000: 0.015606619417667389\n",
      "Loss at epoch 36000: 0.015263165347278118\n",
      "Loss at epoch 37000: 0.014951454475522041\n",
      "Loss at epoch 38000: 0.01466745138168335\n",
      "Loss at epoch 39000: 0.014406917616724968\n",
      "Loss at epoch 40000: 0.014166220091283321\n",
      "Loss at epoch 41000: 0.013942861929535866\n",
      "Loss at epoch 42000: 0.013734995387494564\n",
      "Loss at epoch 43000: 0.013540558516979218\n",
      "Loss at epoch 44000: 0.013357394374907017\n",
      "Loss at epoch 45000: 0.013184571638703346\n",
      "Loss at epoch 46000: 0.01302108820527792\n",
      "Loss at epoch 47000: 0.012866205535829067\n",
      "Loss at epoch 48000: 0.01271866261959076\n",
      "Loss at epoch 49000: 0.01257740706205368\n"
     ]
    }
   ],
   "source": [
    "model2 = NeuralNetwork2()\n",
    "optimizer2 = torch.optim.SGD(model2.parameters(), lr=0.01, momentum=.9)\n",
    "\n",
    "epochs = 50000\n",
    "loss_values2 = np.zeros(50000)\n",
    "for i in range(epochs):\n",
    "    l = loss2(x, t, model2)\n",
    "    l.backward()\n",
    "    optimizer2.step()\n",
    "    optimizer2.zero_grad()\n",
    "    loss_values2[i]=l\n",
    "    if i%1000==0:\n",
    "        print(\"Loss at epoch {}: {}\".format(i, l.item()))"
   ]
  },
  {
   "cell_type": "code",
   "execution_count": 97,
   "metadata": {},
   "outputs": [
    {
     "data": {
      "image/png": "[encoded data removed]",
      "text/plain": [
       "<Figure size 640x480 with 1 Axes>"
      ]
     },
     "metadata": {},
     "output_type": "display_data"
    }
   ],
   "source": [
    "x_axis = torch.linspace(-5,5,10000).unsqueeze(1)\n",
    "t=0\n",
    "\n",
    "t_val = torch.ones(10000).unsqueeze(1)*t\n",
    "values = model2(torch.cat((x_axis,t_val),1))\n",
    "\n",
    "def update_plot(t):\n",
    "    t_val = torch.ones(10000).unsqueeze(1)*t/20\n",
    "    values = model2(torch.cat((x_axis,t_val),1))\n",
    "    points.set_data(x_axis.detach(),values.detach())\n",
    "    return points\n",
    "\n",
    "fig = plt.figure()\n",
    "ax = plt.axes(xlim=(-5,5),ylim=(-1.5,1.5))\n",
    "points, =ax.plot(x_axis.detach(),values.detach(),'red', label='u(x,t)')\n",
    "ani = animation.FuncAnimation(fig,update_plot,frames=100,repeat=False)\n",
    "plt.show()\n",
    "ani.save('test2.gif', writer='pillow')\n",
    "#while t<=5:\n",
    "#    if t==0:\n",
    "#        points, =ax.plot(x_axis.detach(),values.detach(),'red', label='u(x,t)')\n",
    "#        ax.set_xlim(-5,5)\n",
    "#        ax.set_ylim(0,2)\n",
    "#    else:\n",
    "#        points.set_data(x_axis.detach(),values.detach())\n",
    "    \n",
    "#    plt.pause(0.5)\n",
    "#    t+=0.1\n",
    "\n",
    "#plt.figure(figsize=(5,3))\n",
    "#plt.plot(x_axis.detach(),values.detach(),'red', label='u(x,t)')\n",
    "#plt.xlabel('x')\n",
    "#plt.ylabel('u(x,t)')\n",
    "#plt.legend()"
   ]
  },
  {
   "cell_type": "code",
   "execution_count": 33,
   "metadata": {},
   "outputs": [
    {
     "data": {
      "text/plain": [
       "0.6474412679672241"
      ]
     },
     "execution_count": 33,
     "metadata": {},
     "output_type": "execute_result"
    }
   ],
   "source": [
    "network_function(1,1).item()"
   ]
  },
  {
   "cell_type": "markdown",
   "metadata": {},
   "source": [
    "Now, let's simulate a sup-norm test agains the analytic solution, using a test set of data."
   ]
  },
  {
   "cell_type": "code",
   "execution_count": 250,
   "metadata": {},
   "outputs": [
    {
     "name": "stdout",
     "output_type": "stream",
     "text": [
      "Interior sup-norm error: 0.04881325364112854\n",
      "Boundary sup-norm error: 0.04888451099395752\n"
     ]
    }
   ],
   "source": [
    "x_test, y_test, xbdry_test, ybdry_test = SampleFromUnitDisk(10000)\n",
    "\n",
    "with torch.no_grad():\n",
    "    z = model(torch.cat((x_test,y_test),1))-(1/4*(x_test**2+y_test**2-1))\n",
    "    print(\"Interior sup-norm error: {}\".format(torch.max(abs(z)).item()))\n",
    "\n",
    "with torch.no_grad():\n",
    "    z = model(torch.cat((xbdry_test,ybdry_test),1))-(1/4*(xbdry_test**2+ybdry_test**2-1))\n",
    "    print(\"Boundary sup-norm error: {}\".format(torch.max(abs(z)).item()))"
   ]
  },
  {
   "cell_type": "markdown",
   "metadata": {},
   "source": [
    "Of course, we want to do better, but this is pretty decent for this toy example.\n",
    "\n",
    "Cool, so we have a baseline implementation for solving PDEs using neural networks. This was of course extremely simple. I started messing with more complicated PDEs (quasilinear, nonlinear) and ran into challenges in both implementation and validation. There are some theoretical questions on how to deal with non-uniqueness of solutions and how to give an \"ansatz\" when initializaing training. Some of this will probably be the subject of my next post. "
   ]
  }
 ],
 "metadata": {
  "kernelspec": {
   "display_name": "Python 3",
   "language": "python",
   "name": "python3"
  },
  "language_info": {
   "codemirror_mode": {
    "name": "ipython",
    "version": 3
   },
   "file_extension": ".py",
   "mimetype": "text/x-python",
   "name": "python",
   "nbconvert_exporter": "python",
   "pygments_lexer": "ipython3",
   "version": "3.10.8"
  },
  "orig_nbformat": 4
 },
 "nbformat": 4,
 "nbformat_minor": 2
}

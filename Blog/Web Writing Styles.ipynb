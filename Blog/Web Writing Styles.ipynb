{
 "cells": [
  {
   "cell_type": "raw",
   "metadata": {},
   "source": [
    "---\n",
    "title: \"Simulating Shock Formation withe a Neural Network\"\n",
    "description: \"Solving the invicid Burgers' equation with a NN to observe the shock.\"\n",
    "author: \"Zach Wagner\"\n",
    "date: \"11/09/2023\"\n",
    "categories:\n",
    "  - Partial Differential Equations\n",
    "  - Machine Learning\n",
    "draft: true\n",
    "---"
   ]
  },
  {
   "cell_type": "markdown",
   "metadata": {},
   "source": [
    "The goal of this project is twofold:\n",
    "\n",
    "1. Create an application which takes input text and attempts to derive the most likely next thousand words in the style of NPR and in the style of Fox News.\n",
    "\n",
    "2. Create an application which generates two personalities: one like fox news and another like NPR and has them debate each other. "
   ]
  },
  {
   "cell_type": "markdown",
   "metadata": {},
   "source": [
    "# Step one: Scape the data from the internet"
   ]
  },
  {
   "cell_type": "markdown",
   "metadata": {},
   "source": [
    "Of course, we want to do better, but this is pretty decent for this toy example.\n",
    "\n",
    "Cool, so we have a baseline implementation for solving PDEs using neural networks. This was of course extremely simple. I started messing with more complicated PDEs (quasilinear, nonlinear) and ran into challenges in both implementation and validation. There are some theoretical questions on how to deal with non-uniqueness of solutions and how to give an \"ansatz\" when initializaing training. Some of this will probably be the subject of my next post. "
   ]
  },
  {
   "cell_type": "code",
   "execution_count": 2,
   "metadata": {},
   "outputs": [
    {
     "name": "stdout",
     "output_type": "stream",
     "text": [
      "    Text-Only Version Go To Full Site       NPR > Weather    Summer officially arrives with the earliest solstice in more than 2 centuries  By Rachel Treisman  Thursday, June 20, 2024 • 10:19 AM EDT     Summer officially arrives in the Northern Hemisphere on Thursday, the earliest start to the season in over two centuries. The summer solstice — the exact moment when Earth’s north pole is most tilted towards the sun — happens at 4:51 p.m. ET, according to the National Weather Service . The phenomenon marks the longest day of the year (though the exact number of daylight hours varies by location ) and the beginning of astronomical summer. Meteorological summer , in contrast, officially started on June 1 — the reason why millions of Americans were already under extreme heat advisories in the hours leading up to the solstice.  Related Story: NPR  The timing of the summer solstice naturally fluctuates between June 20 and 22. But it’s an especially big deal this year, as it hasn’t happened this early since 1796. That summer solstice happened on June 20 at 1:24 p.m. “Local Mean Time,” according to The Weather Network . It says LMT — used before the U.S. introduced standard time in the late 19th century — is close enough to ET that the comparison is valid. At that point, George Washington was president of the U.S., which Tennessee had just joined as the 16th state. What explains the solstice’s extra-prompt arrival, these 228 years later? The shortest answer is quirks in the calendar. A typical year has 365 days, but that’s not exactly how long the Earth takes to orbit the sun — it’s more like 365.24. To account for that extra quarter, the Gregorian calendar adds a day to February every four years: leap day .  Related Story: NPR  The way the math works, solstices (and equinoxes) drift about 45 minutes earlier every four years. By the 2060s, leap year solstices will be earlier than anything in the 1700s, astrophysicist Ethan Siegel writes in Big Think. That pattern is due to continue until 2096, which will see the earliest solstice of the century at 2:32 a.m. ET on June 20. “It will be the only summer solstice that people in the Pacific time zone of the Americas will experience on June 19 for several hundreds of years!” Seigel adds.  Related Story: NPR  Then, the calendar will reset. That’s because 2100 won’t be a leap year, since it’s one of those fun Gregorian exceptions that are divisible by 100 but not 400. In the meantime, you don’t have to travel to Stonehenge or dance around a maypole to make the most of the summer solstice. Among other ideas, you can look for the smallest shadows of the year , jump on fast-food freebies , refresh yourself on tips for staying safe in the heat and get ready to gaze at the Strawberry Moon , which will reach peak illumination in the U.S. just after 9 p.m. ET on Friday.        Topics   News  Culture  Music      Contact Us  Terms of Use  Permissions  Privacy Policy   © NPR   \n"
     ]
    },
    {
     "name": "stderr",
     "output_type": "stream",
     "text": [
      "/var/folders/km/yn5rwtmn1n9c9yn_x03933wh0000gn/T/ipykernel_50902/1169577236.py:15: DeprecationWarning: The 'text' argument to find()-type methods is deprecated. Use 'string' instead.\n",
      "  texts = soup.findAll(text=True)\n"
     ]
    }
   ],
   "source": [
    "from urllib.request import urlopen\n",
    "from bs4 import BeautifulSoup\n",
    "from bs4.element import Comment\n",
    "\n",
    "def tag_visible(element):\n",
    "    if element.parent.name in ['style', 'script', 'head', 'title', 'meta', '[document]']:\n",
    "        return False\n",
    "    if isinstance(element, Comment):\n",
    "        return False\n",
    "    return True\n",
    "\n",
    "\n",
    "def text_from_html(body):\n",
    "    soup = BeautifulSoup(body, 'html.parser')\n",
    "    texts = soup.findAll(text=True)\n",
    "    visible_texts = filter(tag_visible, texts)  \n",
    "    return u\" \".join(t.strip() for t in visible_texts)\n",
    "\n",
    "with urlopen('https://text.npr.org/nx-s1-5013295') as response:\n",
    "    #soup = BeautifulSoup(response, 'html.parser')\n",
    "    #page = soup.find_all('p')\n",
    "    print(text_from_html(response))\n",
    "    #for anchor in soup.find_all('b'):\n",
    "     #   print(anchor.get('href', '/'))"
   ]
  },
  {
   "cell_type": "code",
   "execution_count": 3,
   "metadata": {},
   "outputs": [
    {
     "name": "stdout",
     "output_type": "stream",
     "text": [
      "     Accessibility links   Skip to main content  Keyboard shortcuts for audio player         Open Navigation Menu           Newsletters      NPR Shop         Close Navigation Menu      Home     News  Expand/collapse submenu for News    National  World  Politics  Business  Health  Science  Climate  Race      Culture  Expand/collapse submenu for Culture    Books  Movies  Television  Pop Culture  Food  Art & Design   Performing Arts  Life Kit  Gaming      Music  Expand/collapse submenu for Music    Tiny Desk   Hip-Hop 50   All Songs Considered   Music Features   Live Sessions      Podcasts & Shows  Expand/collapse submenu for Podcasts & Shows    Daily     Morning Edition     Weekend Edition Saturday     Weekend Edition Sunday     All Things Considered     Fresh Air     Up First    Featured    The NPR Politics Podcast    Throughline    Trump's Trials    Wild Card with Rachel Martin    More Podcasts & Shows       Search      Newsletters       NPR Shop                 Tiny Desk   Hip-Hop 50   All Songs Considered   Music Features   Live Sessions         About NPR  Diversity  Support  Careers  Press  Ethics       Summer solstice arrives early in the Northern Hemisphere  Astronomical summer officially arrives in the Northern Hemisphere — amidst a heat wave — at 4:51 p.m. ET. It's the earliest start to the season since 1796, thanks to quirks in the calendar.       Weather     Summer officially arrives with the earliest solstice in more than 2 centuries            June 20, 2024 10:19 AM ET            By    Rachel Treisman                        The sun rises over Florida on Thursday morning, hours ahead of the arrival of the summer solstice in the Northern Hemisphere. Malcolm Denmark/FloridaToday/USA Today Network  hide caption    toggle caption   Malcolm Denmark/FloridaToday/USA Today Network    Summer officially arrives in the Northern Hemisphere on Thursday, the earliest start to the season in over two centuries.  The summer solstice — the exact moment when Earth’s north pole is most tilted towards the sun — happens at 4:51 p.m. ET, according to the National Weather Service .  The phenomenon marks the longest day of the year (though the exact number of daylight hours varies by location ) and the beginning of astronomical summer. Meteorological summer , in contrast, officially started on June 1 — the reason why millions of Americans were already under extreme heat advisories in the hours leading up to the solstice.         Shots - Health News  8 mistakes to avoid if you're going out in the heat        The timing of the summer solstice naturally fluctuates between June 20 and 22. But it’s an especially big deal this year, as it hasn’t happened this early since 1796.  That summer solstice happened on June 20 at 1:24 p.m. “Local Mean Time,” according to The Weather Network . It says LMT — used before the U.S. introduced standard time in the late 19th century — is close enough to ET that the comparison is valid.  At that point, George Washington was president of the U.S., which Tennessee had just joined as the 16th state.  What explains the solstice’s extra-prompt arrival, these 228 years later?  The shortest answer is quirks in the calendar.  A typical year has 365 days, but that’s not exactly how long the Earth takes to orbit the sun — it’s more like 365.24. To account for that extra quarter, the Gregorian calendar adds a day to February every four years: leap day .      Strange News  Why do we leap day? We remind you (so you can forget for another 4 years)        The way the math works, solstices (and equinoxes) drift about 45 minutes earlier every four years. By the 2060s, leap year solstices will be earlier than anything in the 1700s, astrophysicist Ethan Siegel writes in Big Think.  That pattern is due to continue until 2096, which will see the earliest solstice of the century at 2:32 a.m. ET on June 20.  “It will be the only summer solstice that people in the Pacific time zone of the Americas will experience on June 19 for several hundreds of years!” Seigel adds.      Weather  Summer solstice brings druids, pagans and thousands of curious people to Stonehenge        Then, the calendar will reset. That’s because 2100 won’t be a leap year, since it’s one of those fun Gregorian exceptions that are divisible by 100 but not 400.  In the meantime, you don’t have to travel to Stonehenge or dance around a maypole to make the most of the summer solstice.  Among other ideas, you can look for the smallest shadows of the year , jump on fast-food freebies , refresh yourself on tips for staying safe in the heat and get ready to gaze at the Strawberry Moon , which will reach peak illumination in the U.S. just after 9 p.m. ET on Friday.     summer solstice  leap year  sun       Facebook  Flipboard  Email                      Read & Listen   Home  News  Culture  Music  Podcasts & Shows     Connect   Newsletters  Facebook  Instagram  Press  Public Editor  Corrections  Contact & Help     About NPR   Overview  Diversity  NPR Network  Accessibility  Ethics  Finances     Get Involved   Support Public Radio  Sponsor NPR  NPR Careers  NPR Shop  NPR Events  NPR Extra       Terms of Use  Privacy  Your Privacy Choices  Text Only                Sponsor Message Become an NPR sponsor         \n"
     ]
    },
    {
     "name": "stderr",
     "output_type": "stream",
     "text": [
      "/var/folders/km/yn5rwtmn1n9c9yn_x03933wh0000gn/T/ipykernel_50902/1169577236.py:15: DeprecationWarning: The 'text' argument to find()-type methods is deprecated. Use 'string' instead.\n",
      "  texts = soup.findAll(text=True)\n"
     ]
    }
   ],
   "source": [
    "with urlopen('https://www.npr.org/2024/06/20/nx-s1-5013295/summer-solstice-2024-early') as response:\n",
    "    print(text_from_html(response))\n",
    "    #soup = BeautifulSoup(response, 'html.parser')\n",
    "    #page = soup.find_all('p')\n",
    "    #print(page)\n",
    "    #for anchor in soup.find_all('b'):\n",
    "     #   print(anchor.get('href', '/'))"
   ]
  },
  {
   "cell_type": "code",
   "execution_count": 4,
   "metadata": {},
   "outputs": [
    {
     "name": "stdout",
     "output_type": "stream",
     "text": [
      "     Fox News Media  Fox News Media Fox Business Fox Nation Fox News Audio Fox Weather Outkick Books  Fox News   U.S. Politics World Opinion Media Entertainment Sports Lifestyle Video AI  More  Expand / Collapse search  Login  Watch TV  Menu     U.S.  Crime Military Education Terror Immigration Economy Personal Freedoms Fox News Investigates Digital Originals Politics  Executive Senate House Judiciary Foreign Policy Polls Elections World  U.N. Conflicts Terrorism Disasters Global Economy Environment Religion Scandals Opinion  Media  FOX Nation Coverage Entertainment  Celebrity News Movies TV News Music News Style News Entertainment Video Sports  NFL College Football MLB NBA NHL Golf Tennis Soccer UFC WWE Lifestyle  Health Food & Drink Auto Travel & Outdoors Real Estate House & Home Style & Beauty Family Faith FOX Business  Personal Finance Economy Markets Watchlist Lifestyle Real Estate Tech Science & Tech  Air & Space Security Innovation Video Games Military Tech Planet Earth Wild Nature Watch Live  FOX News Shows Programming Schedule On Air Personalities Full Episodes Show Clips News Clips Apps & Products  FOX News Go FOX Weather FOX Nation FOX News Shop FOX News Radio Outkick Newsletters Podcasts Games  Daily Crossword Puzzle Crazy Crystals Match 3 Game Word Scramble Mini Crossword Puzzle Stack and Match Block Puzzle 5 Across the Letter Word Game  Fox News  Updated Terms of Use New Privacy Policy Your Privacy Choices Closed Caption Policy Help Contact Us Accessibility Statement  This material may not be published, broadcast, rewritten,\n",
      "      or redistributed. ©2024 FOX News Network, LLC. All rights reserved.\n",
      "      Quotes displayed in real-time or delayed by at least 15 minutes. Market data provided by Factset . Powered and implemented by FactSet Digital Solutions . Legal Statement . Mutual Fund and ETF data provided by Refinitiv Lipper .  Facebook  Twitter  Instagram  RSS  Email         U.K. Politics  UK parliamentary candidate runs as 'first AI lawmaker' with interactive AI avatar  'AI Steve' is available 24 hours per day, 365 days per year to discuss policy with voters     Reuters   Published June 19, 2024 10:32am EDT   Facebook  Twitter  Flipboard  Comments  Print  Email   close       Video  UK parliamentary candidate runs as 'first AI lawmaker' with interactive AI avatar  United Kingdom businessman and MP candidate Steve Endacott campaigned using an AI-generated avatar that engages with locals on policy ideas and asks them for their suggestions. (Credit: Reuters)  United Kingdom businessman and candidate to become a member of parliament, Steve Endacott, campaigned using an AI-generated avatar known as \"AI Steve\" that engages real-time with locals on various subjects and puts forth policy ideas before asking them for their suggestions. Endacott said his goal was to showcase artificial intelligence's ability to give voters more access to their parliamentary representatives, since the AI co-pilot would talk to voters around the clock and formulate policies, which would then be submitted to a group of 500 validators for vetting. AI Steve raises to voters the question of how artificial intelligence should be used in politics. Are you worried about AI taking over your job? You can write to your local MP, who might just be an AI too.     Businessman Steve Endacott is among hundreds of candidates running in the July 4 national election in Britain to become a member of parliament (MP). Here's his hook: the face on the campaign leaflet is an AI-generated avatar of the 59-year-old, not the man himself.   LABOUR PARTY LEADER VOWS END TO UK POLITICS DEFINED BY 'GESTURES AND GIMMICKS' IF HE WINS POWER   And if his bid succeeds, it would give the world its first AI lawmaker.   Stood next to a human-size cutout of \"AI Steve\", Endacott held a mobile phone to curious passersby outside the historic Brighton pier at the southern English seaside town, encouraging them to give the technology a try. The avatar engages real-time with locals on topics ranging from LGBTQ rights and housing, to bin collection and immigration. It then puts forth policy ideas before asking them for their suggestions.   The Houses of Parliament are seen in London, United Kingdom, on on June 12, 2024. Businessman Steve Endacott is running for parliament in a bid to become the world's \"first AI lawmaker\" with his artificial intelligence-created avatar, AI Steve. Voters can interact with AI Steve online at any time to ask questions or make suggestions about policy.  (Mike Kemp/In Pictures via Getty Images)   Charity worker Eona Johnston, 23, from Brighton is open to AI Steve, but wants to see proof about its efficiency and trustworthiness. \"We're using AI in so many (areas), at work, social interactions, why don't we put it in politics? But how would we do it. We shouldn't be closed off to the idea,\" she said.   Endacott, whose Neural Voice company powers his AI alter ego, said his frustration with \"standard politics\" made him decide to run as an independent for the Brighton Pavilion seat, which is expected to be retained by the Green Party.     He said the goal was to showcase the technology's ability to give voters more access to their parliamentary representatives: \"We want democracy reformed, we want people connected to their MPs, because current system is broken and not working.\" In his second outing after losing in a local council election in 2022, Endacott said the AI co-pilot would talk to voters around the clock and formulate policies, which would then be put forward to a group of 500 validators for vetting. \"Even when a policy is created, it's got to get past the validators ... Nobody could easily hack the validators,\" he told Reuters.     When asked about AI Steve, the Electoral Commission stated that the MP would be the elected candidate, not \"any AI generated application they choose to use.\" Most locals appeared reluctant to vote for an AI candidate just yet, but viewed Endacott's pursuit as an important conversation to be had: the use of AI in politics . While AI has been in use for decades, the rapid growth of ChatGPT since its launch in 2022 has thrust the technology into the mainstream, with many influential world figures, from Pope Francis to Elon Musk, advocating for tighter oversight.   Britain has been deeply divided in the run up to and since Brexit, with public trust and confidence in government at record lows and the governing Conservatives potentially facing an \"electoral extinction.\"     Not everyone has taken kindly to AI Steve either, with death threats being directed at the technology. \"We just said: if you're big enough, see if you can find the plug,\" said a chuckling Endacott, who describes himself as someone from a working class background that has made money.   CLICK HERE TO GET THE FOX NEWS APP Jim Cheek, a 37-year old accountant from Brighton, pointed out that an MP must be adept at public speaking as they have to make a case on behalf of their constituents in parliament, something that an AI lawmaker cannot do.   \"I think an AI is only a small part of what makes a good MP or a bad MP so I would suggest perhaps it is a bit of a gimmick ,\" Cheek said.   Another resident, Andy Clawson, 42, said: \"AI and politicians have the one thing in common ... they can’t be trusted.\"                          Fox News' \"Antisemitism Exposed\" newsletter brings you stories on the rising anti-Jewish prejudice across the U.S. and the world.  Arrives Weekly   Subscribe   Subscribed        Subscribe   You've successfully subscribed to this newsletter!        U.S.  Crime Military Education Terror Immigration Economy Personal Freedoms Fox News Investigates Digital Originals Politics  Executive Senate House Judiciary Foreign Policy Polls Elections World  U.N. Conflicts Terrorism Disasters Global Economy Environment Religion Scandals Opinion  Media  FOX Nation Coverage Entertainment  Celebrity News Movies TV News Music News Style News Entertainment Video Sports  NFL College Football MLB NBA NHL Golf Tennis Soccer UFC WWE Lifestyle  Health Food & Drink Auto Travel & Outdoors Real Estate House & Home Fitness & Well-being Style & Beauty Family Faith FOX Business  Personal Finance Economy Markets Watchlist Lifestyle Real Estate Tech Science & Tech  Air & Space Security Innovation Video Games Military Tech Planet Earth Wild Nature Watch Live  FOX News Shows Programming Schedule On Air Personalities Full Episodes Show Clips News Clips About  Contact Us Careers Fox Around the World Advertise With Us Media Relations Corporate Information Compliance Apps & Products  FOX News Go FOX Weather FOX Nation FOX News Shop FOX News Radio Outkick Newsletters Podcasts Games  Daily Crossword Puzzle Crazy Crystals Match 3 Game Word Scramble Mini Crossword Puzzle Stack and Match Block Puzzle 5 Across the Letter Word Game  Facebook  Twitter  Instagram  Youtube  Flipboard  LinkedIn  Slack  RSS  Newsletters  Spotify  iHeartRadio  Fox News  Updated Terms of Use New Privacy Policy Your Privacy Choices Closed Caption Policy Help Contact Us Accessibility Statement  This material may not be published, broadcast, rewritten, or redistributed. ©2024 FOX News Network, LLC. All rights reserved. Quotes displayed in real-time or delayed by at least 15 minutes. Market data provided by Factset . Powered and implemented by FactSet Digital Solutions . Legal Statement . Mutual Fund and ETF data provided by Refinitiv Lipper .   \n"
     ]
    },
    {
     "name": "stderr",
     "output_type": "stream",
     "text": [
      "/var/folders/km/yn5rwtmn1n9c9yn_x03933wh0000gn/T/ipykernel_50902/1169577236.py:15: DeprecationWarning: The 'text' argument to find()-type methods is deprecated. Use 'string' instead.\n",
      "  texts = soup.findAll(text=True)\n"
     ]
    }
   ],
   "source": [
    "with urlopen('https://www.foxnews.com/world/uk-parliamentary-candidate-runs-first-ai-lawmaker-interactive-ai-avatar') as response:\n",
    "    print(text_from_html(response))\n",
    "    #soup = BeautifulSoup(response, 'html.parser')\n",
    "    #page = soup.find_all('p')\n",
    "    #print(page)\n",
    "    #for anchor in soup.find_all('b'):\n",
    "     #   print(anchor.get('href', '/'))"
   ]
  }
 ],
 "metadata": {
  "kernelspec": {
   "display_name": "Python 3",
   "language": "python",
   "name": "python3"
  },
  "language_info": {
   "codemirror_mode": {
    "name": "ipython",
    "version": 3
   },
   "file_extension": ".py",
   "mimetype": "text/x-python",
   "name": "python",
   "nbconvert_exporter": "python",
   "pygments_lexer": "ipython3",
   "version": "3.11.2"
  },
  "orig_nbformat": 4
 },
 "nbformat": 4,
 "nbformat_minor": 2
}
